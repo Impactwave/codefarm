{
 "cells": [
  {
   "cell_type": "markdown",
   "metadata": {},
   "source": [
    "# Orchard spray volume rate I\n",
    "\n",
    "*[Hugo Pires](https://www.linkedin.com/in/hjmpires), 2016*"
   ]
  },
  {
   "cell_type": "markdown",
   "metadata": {},
   "source": [
    "## Introduction\n",
    "While striving to improve my skills I soon realized that trying to learn Object Oriented programing by yourself can be difficult, so I've decided to use some examples from my working expertise, pesticide application, using Python.\n",
    "\n",
    "On this notebook, I will bring together some formulas usually used to plan a proper pesticide application. They have been used for long time, published, proved and presented in training sessions. I will just connect them on a train of thought.\n",
    "\n",
    "It's funny that I've started trying to learn OOP and I've ended thinking about pesticide spraying in a quite different way. I've learned that bringing agriculture and computers together is not only developing new apps and interfaces. First off all it is building a new approach to old problems using computer science.\n",
    "\n",
    "And the result is one possible way to organize our pesticide application process, using very simple classes that explain the formulas. I’ll be using this method here, on the ag-tech solution development in [Impactwave](www.impactwave.com), aiming to a more efficient and sustainable agriculture."
   ]
  },
  {
   "cell_type": "markdown",
   "metadata": {},
   "source": [
    "---"
   ]
  },
  {
   "cell_type": "markdown",
   "metadata": {},
   "source": [
    "## First of all\n",
    "I will need some libraries..."
   ]
  },
  {
   "cell_type": "code",
   "execution_count": 1,
   "metadata": {
    "collapsed": false
   },
   "outputs": [],
   "source": [
    "import numpy as np\n",
    "import matplotlib.pyplot as plt\n",
    "%matplotlib inline"
   ]
  },
  {
   "cell_type": "markdown",
   "metadata": {},
   "source": [
    "#### ...and some data on nozzles.\n",
    "\n",
    "When, early in my work, I started to work on reducing volume rate, I used [Albuz ATR 80 hollow cone nozzles](http://www.albuz-spray.com/en/busesenceramique-ceramicnozzles-boquillasdeceramica). I went back, remembered those times, and came up with some examples."
   ]
  },
  {
   "cell_type": "code",
   "execution_count": 2,
   "metadata": {
    "collapsed": true
   },
   "outputs": [],
   "source": [
    "COLOR_CODES = ['WHITE','LILAC','BROWN','YELLOW','ORANGE','RED','GREY','GREEN','BLACK','BLUE']"
   ]
  },
  {
   "cell_type": "code",
   "execution_count": 3,
   "metadata": {
    "collapsed": true
   },
   "outputs": [],
   "source": [
    "PRESSURES = np.array([5.,6.,7.,8.,9.,10.,11.,12.,13.,14.,15.,16.,17.,18.,19.,20.,21.,22.,23.,24.,25.])"
   ]
  },
  {
   "cell_type": "code",
   "execution_count": 4,
   "metadata": {
    "collapsed": false
   },
   "outputs": [],
   "source": [
    "FLOW_RATES = np.array([\n",
    "       [ 0.27,  0.36,  0.48,  0.73,  0.99,  1.38,  1.5 ,  1.78,  2.  ,  2.45],\n",
    "       [ 0.29,  0.39,  0.52,  0.8 ,  1.08,  1.51,  1.63,  1.94,  2.18,  2.67],\n",
    "       [ 0.32,  0.42,  0.56,  0.86,  1.17,  1.62,  1.76,  2.09,  2.35,  2.87],\n",
    "       [ 0.34,  0.45,  0.6 ,  0.92,  1.24,  1.73,  1.87,  2.22,  2.5 ,  3.06],\n",
    "       [ 0.36,  0.48,  0.64,  0.97,  1.32,  1.83,  1.98,  2.35,  2.64,  3.24],\n",
    "       [ 0.38,  0.5 ,  0.67,  1.03,  1.39,  1.92,  2.08,  2.47,  2.78,  3.4 ],\n",
    "       [ 0.39,  0.52,  0.7 ,  1.07,  1.45,  2.01,  2.17,  2.58,  2.9 ,  3.56],\n",
    "       [ 0.41,  0.55,  0.73,  1.12,  1.51,  2.09,  2.26,  2.69,  3.03,  3.71],\n",
    "       [ 0.43,  0.57,  0.76,  1.17,  1.57,  2.17,  2.35,  2.79,  3.14,  3.85],\n",
    "       [ 0.44,  0.59,  0.79,  1.21,  1.63,  2.25,  2.43,  2.89,  3.26,  3.99],\n",
    "       [ 0.46,  0.61,  0.81,  1.25,  1.69,  2.33,  2.51,  2.99,  3.36,  4.12],\n",
    "       [ 0.47,  0.63,  0.84,  1.29,  1.74,  2.4 ,  2.59,  3.08,  3.47,  4.25],\n",
    "       [ 0.48,  0.64,  0.86,  1.33,  1.79,  2.47,  2.67,  3.17,  3.57,  4.37],\n",
    "       [ 0.5 ,  0.66,  0.89,  1.37,  1.84,  2.54,  2.74,  3.25,  3.67,  4.49],\n",
    "       [ 0.51,  0.68,  0.91,  1.4 ,  1.89,  2.6 ,  2.81,  3.34,  3.76,  4.61],\n",
    "       [ 0.52,  0.7 ,  0.93,  1.44,  1.94,  2.67,  2.88,  3.42,  3.85,  4.72],\n",
    "       [ 0.54,  0.71,  0.95,  1.48,  1.99,  2.73,  2.95,  3.5 ,  3.94,  4.84],\n",
    "       [ 0.55,  0.73,  0.98,  1.51,  2.03,  2.79,  3.01,  3.57,  4.03,  4.94],\n",
    "       [ 0.56,  0.74,  1.  ,  1.54,  2.07,  2.85,  3.07,  3.65,  4.12,  5.05],\n",
    "       [ 0.57,  0.76,  1.02,  1.58,  2.12,  2.91,  3.14,  3.72,  4.2 ,  5.15],\n",
    "       [ 0.58,  0.77,  1.04,  1.61,  2.16,  2.97,  3.2 ,  3.8 ,  4.28,  5.25]\n",
    "    ])"
   ]
  },
  {
   "cell_type": "code",
   "execution_count": 5,
   "metadata": {
    "collapsed": true
   },
   "outputs": [],
   "source": [
    "class NozzleType():\n",
    "    \n",
    "    def __init__(self, manufacturer, name, model, color_codes, pressures, flow_rates):\n",
    "        self.manufacturer = manufacturer\n",
    "        self.name = name\n",
    "        self.model = model\n",
    "        self.color_codes = color_codes\n",
    "        self.pressures = pressures\n",
    "        self.flow_rates = flow_rates"
   ]
  },
  {
   "cell_type": "code",
   "execution_count": 6,
   "metadata": {
    "collapsed": true
   },
   "outputs": [],
   "source": [
    "albuz_atr80 = NozzleType('Albuz', 'ATR 80', 'hollow cone', COLOR_CODES, PRESSURES, FLOW_RATES )"
   ]
  },
  {
   "cell_type": "markdown",
   "metadata": {},
   "source": [
    "## Preparing the machinery\n",
    "First of all I need to describe the orchard (vineyard will be analysed later). I can be pretty sure about distances and the area, but what is the tree height and width? For now, let’s use some average values and I will talk about sampling later.\n",
    "* Height and width are tree canopy parameters (in meters)\n",
    "* Row and tree distance tell us how far are the trees and then how many trees we have in the orchard (in meters,too)\n",
    "* The area of the orchard is in hectares"
   ]
  },
  {
   "cell_type": "code",
   "execution_count": 7,
   "metadata": {
    "collapsed": false
   },
   "outputs": [],
   "source": [
    "class Orchard():\n",
    "    \n",
    "    def __init__(self, tree_height, tree_width, row_distance, tree_distance, orchard_area):\n",
    "        \"\"\"\n",
    "        Sets orchard parameters and calculates the number of plants\n",
    "        Calculates Tree Row Volume and the amount of spray needed per hectare and all orchard\n",
    "        \"\"\"\n",
    "        self.tree_height, self.tree_width = tree_height, tree_width\n",
    "        self.row_distance, self.tree_distance = row_distance, tree_distance\n",
    "        self.orchard_area = orchard_area\n",
    "        self.tree_number = round(10000 / (row_distance * tree_distance) * self.orchard_area)\n",
    "        self.tree_row_volume = self.tree_height * self.tree_width * 10000 / self.row_distance"
   ]
  },
  {
   "cell_type": "markdown",
   "metadata": {},
   "source": [
    "I've been using the Tree Row Volume method. Although it is a very simple model (with lots of limitations), it can quantify a very simple fact: there are not two identical orchards. You can read details about it on [Sutton and Unrath paper](http://www.apsnet.org/publications/PlantDisease/BackIssues/Documents/1984Articles/PlantDisease68n06_480.pdf). You can find an [interesting infographics](http://app.agrozapp.pt/admin/private/selene/download.php?URI=private%2Fstorage%2Finline_assets%2F39f3f5b40919b78d9f3a5e0bf9bca401.pdf&name=TRV.pdf) on that subject that we've made for Agrozapp Newsletter.\n",
    "\n",
    "---\n",
    "Probably you have some mold or bug annoying you and decided to apply some pesticide. By now I just want to know its name and dose to be applied per hectare."
   ]
  },
  {
   "cell_type": "code",
   "execution_count": 8,
   "metadata": {
    "collapsed": true
   },
   "outputs": [],
   "source": [
    "class Pesticide():\n",
    "    \n",
    "    def __init__(self, name, dosis):\n",
    "        self.name = name\n",
    "        self.dosis = dosis"
   ]
  },
  {
   "cell_type": "markdown",
   "metadata": {},
   "source": [
    "What do you use to spray? Well, most of the times, a sprayer..."
   ]
  },
  {
   "cell_type": "code",
   "execution_count": 9,
   "metadata": {
    "collapsed": true
   },
   "outputs": [],
   "source": [
    "class Sprayer():\n",
    "    \n",
    "    def __init__(self, nozzle_number, tank_capacity):\n",
    "        self.nozzle_number = nozzle_number\n",
    "        self.nozzle_array = []\n",
    "        self.tank_capacity = tank_capacity"
   ]
  },
  {
   "cell_type": "markdown",
   "metadata": {},
   "source": [
    "...with some nozzles on it..."
   ]
  },
  {
   "cell_type": "code",
   "execution_count": 10,
   "metadata": {
    "collapsed": true
   },
   "outputs": [],
   "source": [
    "class Nozzle():\n",
    "    \n",
    "    def __init__(self, flow_rate, nozzle_type, sprayer):\n",
    "        self.flow_rate = flow_rate\n",
    "        self.nozzle_type = nozzle_type\n",
    "        self.sprayer = sprayer\n",
    "        \n",
    "        #Selecting the right nozzle\n",
    "        dif = np.abs(self.nozzle_type.flow_rates - self.flow_rate / self.sprayer.nozzle_number)\n",
    "        pressure_index, nozzle_index = np.unravel_index(dif.argmin(),\\\n",
    "                                                        (self.nozzle_type.flow_rates.shape[0],self.nozzle_type.flow_rates.shape[1]))\n",
    "        self.color_code = self.nozzle_type.color_codes[nozzle_index]\n",
    "        self.pressure = self.nozzle_type.pressures[pressure_index]\n",
    "        self.real_flow_rate = round(self.nozzle_type.flow_rates[pressure_index, nozzle_index],2)"
   ]
  },
  {
   "cell_type": "markdown",
   "metadata": {},
   "source": [
    "and pulled by a big and strong tractor."
   ]
  },
  {
   "cell_type": "code",
   "execution_count": 11,
   "metadata": {
    "collapsed": true
   },
   "outputs": [],
   "source": [
    "class Tractor():\n",
    "    \n",
    "    def __init__(self, speed):\n",
    "        \"\"\"\n",
    "        When you have a speedometer, just use it\n",
    "        \"\"\"\n",
    "        self.speed = speed\n",
    "        \n",
    "    def set_speed(self, distance, time):\n",
    "        \"\"\"\n",
    "        If not, just make a simple speed test\n",
    "        Probably we have to make some changes on Imperial Units\n",
    "        \"\"\"\n",
    "        self.speed = 3.6 * distance / time"
   ]
  },
  {
   "cell_type": "markdown",
   "metadata": {},
   "source": [
    "So, the **application** itself, uses all this objects to work."
   ]
  },
  {
   "cell_type": "code",
   "execution_count": 12,
   "metadata": {
    "collapsed": false
   },
   "outputs": [],
   "source": [
    "class Application():\n",
    "    \n",
    "    def __init__(self, orchard, pesticide, sprayer, tractor):\n",
    "        self.orchard = orchard\n",
    "        self.pesticide = pesticide\n",
    "        self.sprayer = sprayer\n",
    "        self.tractor = tractor\n",
    "        \n",
    "        self.spray_volume_rate = 200 + 0.02 * self.orchard.tree_row_volume\n",
    "        self.spray_volume_total = self.spray_volume_rate * self.orchard.orchard_area\n",
    "        \n",
    "        #Probably the most important formula\n",
    "        self.flow_rate = (self.spray_volume_rate * self.tractor.speed * self.orchard.row_distance) / 600\n",
    "        self.selected_nozzle = Nozzle(self.flow_rate, albuz_atr80, self.sprayer)\n",
    "        \n",
    "        self.concentration = self.pesticide.dosis / self.spray_volume_rate\n",
    "        self.total_pesticide = self.concentration * self.sprayer.tank_capacity\n",
    "    \n",
    "    def get_nozzle_config(self):\n",
    "        return self.selected_nozzle\n",
    "    \n",
    "    def get_tank_mix(self):\n",
    "        return ('Mix {} L of water with {} g of pesticide in tank'.\\\n",
    "                format(self.sprayer.tank_capacity, round(self.total_pesticide)))"
   ]
  },
  {
   "cell_type": "markdown",
   "metadata": {},
   "source": [
    "## Let's spray"
   ]
  },
  {
   "cell_type": "markdown",
   "metadata": {},
   "source": [
    "So, let's get started. I have a small pear tree orchard from which I know a few things:\n",
    "* The height of the canopy,\n",
    "* And its width\n",
    "* The distance between rows and between trees\n",
    "* And the area"
   ]
  },
  {
   "cell_type": "code",
   "execution_count": 13,
   "metadata": {
    "collapsed": false
   },
   "outputs": [],
   "source": [
    "old_valley = Orchard(4.5,1,4,2,1)"
   ]
  },
  {
   "cell_type": "markdown",
   "metadata": {},
   "source": [
    "We've decided to use an copper based fungicide."
   ]
  },
  {
   "cell_type": "code",
   "execution_count": 14,
   "metadata": {
    "collapsed": true
   },
   "outputs": [],
   "source": [
    "special_fungicide = Pesticide('Copper MIX', 2000)"
   ]
  },
  {
   "cell_type": "markdown",
   "metadata": {},
   "source": [
    "And all the machinery in the farm."
   ]
  },
  {
   "cell_type": "code",
   "execution_count": 15,
   "metadata": {
    "collapsed": true
   },
   "outputs": [],
   "source": [
    "fan_sprayer = Sprayer(10, 1000)"
   ]
  },
  {
   "cell_type": "code",
   "execution_count": 16,
   "metadata": {
    "collapsed": true
   },
   "outputs": [],
   "source": [
    "rusty_tractor = Tractor(6)"
   ]
  },
  {
   "cell_type": "code",
   "execution_count": 17,
   "metadata": {
    "collapsed": false
   },
   "outputs": [],
   "source": [
    "tomorrow_job = Application(old_valley, special_fungicide, fan_sprayer, rusty_tractor)"
   ]
  },
  {
   "cell_type": "markdown",
   "metadata": {},
   "source": [
    "After all this work, I want some answers. So, what nozzle should I use? "
   ]
  },
  {
   "cell_type": "code",
   "execution_count": 18,
   "metadata": {
    "collapsed": false
   },
   "outputs": [
    {
     "name": "stdout",
     "output_type": "stream",
     "text": [
      "ORANGE\n",
      "15.0\n"
     ]
    }
   ],
   "source": [
    "the_right_nozzle = tomorrow_job.get_nozzle_config()\n",
    "print(the_right_nozzle.color_code)\n",
    "print(the_right_nozzle.pressure)"
   ]
  },
  {
   "cell_type": "markdown",
   "metadata": {},
   "source": [
    "And what tank mixture?"
   ]
  },
  {
   "cell_type": "code",
   "execution_count": 19,
   "metadata": {
    "collapsed": false
   },
   "outputs": [
    {
     "data": {
      "text/plain": [
       "'Mix 1000 L of water with 4706 g of pesticide in tank'"
      ]
     },
     "execution_count": 19,
     "metadata": {},
     "output_type": "execute_result"
    }
   ],
   "source": [
    "the_right_tank_mix = tomorrow_job.get_tank_mix()\n",
    "the_right_tank_mix"
   ]
  },
  {
   "cell_type": "markdown",
   "metadata": {},
   "source": [
    "## Some more issues on TRV"
   ]
  },
  {
   "cell_type": "markdown",
   "metadata": {},
   "source": [
    "By the way, did you notice that volume rate is a linear function of Tree Row Volume? The intercept is 200, which it means that every orchard will receive 200 L per hectare and the slope is 0.02, 20 L per 1000 m3 of tree row. Let's make a simple plot to show it. "
   ]
  },
  {
   "cell_type": "code",
   "execution_count": 20,
   "metadata": {
    "collapsed": false
   },
   "outputs": [
    {
     "data": {
      "image/png": "[encoded data removed]",
      "text/plain": [
       "<matplotlib.figure.Figure at 0x10be6d358>"
      ]
     },
     "metadata": {},
     "output_type": "display_data"
    }
   ],
   "source": [
    "x = np.linspace(0,15000,16)\n",
    "plt.axis((0,15000,0,800))\n",
    "plt.plot(x, (200 + 0.02 * x));"
   ]
  },
  {
   "cell_type": "markdown",
   "metadata": {},
   "source": [
    "The TRV, besides addressing the variation **between** diferent orchards can also deal with variation **inside** the same orchard along the phenological state. Again according to [Sutton and Unrath, 1984](http://www.apsnet.org/publications/PlantDisease/BackIssues/Documents/1984Articles/PlantDisease68n06_480.pdf), we know the coeficients:"
   ]
  },
  {
   "cell_type": "code",
   "execution_count": 21,
   "metadata": {
    "collapsed": false
   },
   "outputs": [],
   "source": [
    "DENSITIES = \\\n",
    "    {'extremely open': 0.7,\n",
    "    'very open': 0.75,\n",
    "    'well pruned': 0.8,\n",
    "    'moderately well pruned': 0.85,\n",
    "    'pruned minimally': 0.9,\n",
    "    'little or no pruning': 0.95,\n",
    "    'unpruned': 1}"
   ]
  },
  {
   "cell_type": "markdown",
   "metadata": {},
   "source": [
    "and we can create a slightly diferent **Orchard** class (inheriting from the first), expanding the one that we've been using until now:"
   ]
  },
  {
   "cell_type": "code",
   "execution_count": 22,
   "metadata": {
    "collapsed": true
   },
   "outputs": [],
   "source": [
    "class DetailedOrchard(Orchard):\n",
    "    \n",
    "    def __init__(self, tree_height, tree_width, row_distance, tree_distance, orchard_area, pruned, densities):\n",
    "        Orchard.__init__(self, tree_height, tree_width, row_distance, tree_distance, orchard_area)\n",
    "        self.density = densities[pruned]\n",
    "        self.tree_row_volume = (self.tree_height * self.tree_width * 10000 / self.row_distance) * self.density"
   ]
  },
  {
   "cell_type": "code",
   "execution_count": 23,
   "metadata": {
    "collapsed": false
   },
   "outputs": [],
   "source": [
    "newvalley = DetailedOrchard(4.5,1,4,2,1,'very open',DENSITIES)"
   ]
  },
  {
   "cell_type": "code",
   "execution_count": 24,
   "metadata": {
    "collapsed": false
   },
   "outputs": [],
   "source": [
    "work_on_weekend = Application(newvalley, special_fungicide, fan_sprayer, rusty_tractor)"
   ]
  },
  {
   "cell_type": "code",
   "execution_count": 25,
   "metadata": {
    "collapsed": false
   },
   "outputs": [
    {
     "name": "stdout",
     "output_type": "stream",
     "text": [
      "YELLOW\n",
      "21.0\n"
     ]
    }
   ],
   "source": [
    "a_diferent_nozzle = work_on_weekend.get_nozzle_config()\n",
    "print(a_diferent_nozzle.color_code)\n",
    "print(a_diferent_nozzle.pressure)"
   ]
  },
  {
   "cell_type": "code",
   "execution_count": 26,
   "metadata": {
    "collapsed": false
   },
   "outputs": [
    {
     "data": {
      "text/plain": [
       "'Mix 1000 L of water with 5424 g of pesticide in tank'"
      ]
     },
     "execution_count": 26,
     "metadata": {},
     "output_type": "execute_result"
    }
   ],
   "source": [
    "another_tank_mix = work_on_weekend.get_tank_mix()\n",
    "another_tank_mix"
   ]
  },
  {
   "cell_type": "markdown",
   "metadata": {},
   "source": [
    "## Conclusion\n",
    "\n",
    "I showed some evidence that the concentration depends on the dose and spray volume rate. When you change one of them, you must recalculate the others. That is the beginning of a good pesticie application.\n",
    "\n",
    "This little work is not only useful by now, but also to the future. Classes could be reused in different scenarios - fertilization for instance, and could be \"expanded\" to add new features like dosis calculation, pressure adjustment and air flow rate. "
   ]
  },
  {
   "cell_type": "markdown",
   "metadata": {},
   "source": [
    "---"
   ]
  },
  {
   "cell_type": "markdown",
   "metadata": {},
   "source": [
    "## Resources\n",
    "\n",
    "This work is made of four ingredients: some ideas, lots of discussion with coleagues and farmers, support from [Impactwave](http://www.impactwave.com) team (specially Gonçalo Martins) and all the effort of the Python community:\n",
    "\n",
    "* [Python 3.5.2 documentation](https://docs.python.org/3/)\n",
    "* [matplotlib](http://matplotlib.org/)\n",
    "* [NumPy](http://www.numpy.org/)"
   ]
  }
 ],
 "metadata": {
  "anaconda-cloud": {},
  "kernelspec": {
   "display_name": "Python [conda env:meteo]",
   "language": "python",
   "name": "conda-env-meteo-py"
  },
  "language_info": {
   "codemirror_mode": {
    "name": "ipython",
    "version": 3
   },
   "file_extension": ".py",
   "mimetype": "text/x-python",
   "name": "python",
   "nbconvert_exporter": "python",
   "pygments_lexer": "ipython3",
   "version": "3.5.2"
  }
 },
 "nbformat": 4,
 "nbformat_minor": 0
}
