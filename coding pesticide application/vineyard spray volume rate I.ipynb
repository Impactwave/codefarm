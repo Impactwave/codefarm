{
 "cells": [
  {
   "cell_type": "markdown",
   "metadata": {},
   "source": [
    "# Vineyard spray volume rate I\n",
    "\n",
    "*[Hugo Pires](https://www.linkedin.com/in/hjmpires), 2016*"
   ]
  },
  {
   "cell_type": "markdown",
   "metadata": {},
   "source": [
    "## Introduction\n"
   ]
  },
  {
   "cell_type": "markdown",
   "metadata": {},
   "source": [
    "In the first notebook of this series, I've started to calculate what is the correct spray volume for a given vineyard. In this one I will make some calculation on vineyards. As you will see, I can reuse some code, but I will need (as expected) some modifications."
   ]
  },
  {
   "cell_type": "markdown",
   "metadata": {},
   "source": [
    "## As usual,\n",
    "I will need some libraries..."
   ]
  },
  {
   "cell_type": "code",
   "execution_count": 1,
   "metadata": {
    "collapsed": false
   },
   "outputs": [],
   "source": [
    "import math\n",
    "import numpy as np\n",
    "import matplotlib.pyplot as plt\n",
    "%matplotlib inline"
   ]
  },
  {
   "cell_type": "markdown",
   "metadata": {},
   "source": [
    "#### ...and some data\n",
    "\n",
    "on [Albuz ATR 80 hollow cone nozzles](http://www.albuz-spray.com/en/busesenceramique-ceramicnozzles-boquillasdeceramica)."
   ]
  },
  {
   "cell_type": "code",
   "execution_count": 2,
   "metadata": {
    "collapsed": false
   },
   "outputs": [],
   "source": [
    "COLOR_CODES = ['WHITE','LILAC','BROWN','YELLOW','ORANGE','RED','GREY','GREEN','BLACK','BLUE']\n",
    "\n",
    "PRESSURES = np.array([5.,6.,7.,8.,9.,10.,11.,12.,13.,14.,15.,16.,17.,18.,19.,20.,21.,22.,23.,24.,25.])\n",
    "\n",
    "FLOW_RATES = np.array([\n",
    "       [ 0.27,  0.36,  0.48,  0.73,  0.99,  1.38,  1.5 ,  1.78,  2.  ,  2.45],\n",
    "       [ 0.29,  0.39,  0.52,  0.8 ,  1.08,  1.51,  1.63,  1.94,  2.18,  2.67],\n",
    "       [ 0.32,  0.42,  0.56,  0.86,  1.17,  1.62,  1.76,  2.09,  2.35,  2.87],\n",
    "       [ 0.34,  0.45,  0.6 ,  0.92,  1.24,  1.73,  1.87,  2.22,  2.5 ,  3.06],\n",
    "       [ 0.36,  0.48,  0.64,  0.97,  1.32,  1.83,  1.98,  2.35,  2.64,  3.24],\n",
    "       [ 0.38,  0.5 ,  0.67,  1.03,  1.39,  1.92,  2.08,  2.47,  2.78,  3.4 ],\n",
    "       [ 0.39,  0.52,  0.7 ,  1.07,  1.45,  2.01,  2.17,  2.58,  2.9 ,  3.56],\n",
    "       [ 0.41,  0.55,  0.73,  1.12,  1.51,  2.09,  2.26,  2.69,  3.03,  3.71],\n",
    "       [ 0.43,  0.57,  0.76,  1.17,  1.57,  2.17,  2.35,  2.79,  3.14,  3.85],\n",
    "       [ 0.44,  0.59,  0.79,  1.21,  1.63,  2.25,  2.43,  2.89,  3.26,  3.99],\n",
    "       [ 0.46,  0.61,  0.81,  1.25,  1.69,  2.33,  2.51,  2.99,  3.36,  4.12],\n",
    "       [ 0.47,  0.63,  0.84,  1.29,  1.74,  2.4 ,  2.59,  3.08,  3.47,  4.25],\n",
    "       [ 0.48,  0.64,  0.86,  1.33,  1.79,  2.47,  2.67,  3.17,  3.57,  4.37],\n",
    "       [ 0.5 ,  0.66,  0.89,  1.37,  1.84,  2.54,  2.74,  3.25,  3.67,  4.49],\n",
    "       [ 0.51,  0.68,  0.91,  1.4 ,  1.89,  2.6 ,  2.81,  3.34,  3.76,  4.61],\n",
    "       [ 0.52,  0.7 ,  0.93,  1.44,  1.94,  2.67,  2.88,  3.42,  3.85,  4.72],\n",
    "       [ 0.54,  0.71,  0.95,  1.48,  1.99,  2.73,  2.95,  3.5 ,  3.94,  4.84],\n",
    "       [ 0.55,  0.73,  0.98,  1.51,  2.03,  2.79,  3.01,  3.57,  4.03,  4.94],\n",
    "       [ 0.56,  0.74,  1.  ,  1.54,  2.07,  2.85,  3.07,  3.65,  4.12,  5.05],\n",
    "       [ 0.57,  0.76,  1.02,  1.58,  2.12,  2.91,  3.14,  3.72,  4.2 ,  5.15],\n",
    "       [ 0.58,  0.77,  1.04,  1.61,  2.16,  2.97,  3.2 ,  3.8 ,  4.28,  5.25]\n",
    "    ])"
   ]
  },
  {
   "cell_type": "markdown",
   "metadata": {
    "collapsed": false
   },
   "source": [
    "Let's reuse some classes that I've created on the first notebook, with diferent names if needed."
   ]
  },
  {
   "cell_type": "code",
   "execution_count": 3,
   "metadata": {
    "collapsed": false
   },
   "outputs": [],
   "source": [
    "class NozzleType():\n",
    "    \n",
    "    def __init__(self, manufacturer, name, model, color_codes, pressures, flow_rates):\n",
    "        self.manufacturer = manufacturer\n",
    "        self.name = name\n",
    "        self.model = model\n",
    "        self.color_codes = color_codes\n",
    "        self.pressures = pressures\n",
    "        self.flow_rates = flow_rates\n",
    "        \n",
    "class Vineyard():\n",
    "    \n",
    "    def __init__(self, grapevine_height, grapevine_width, row_distance, grapevine_distance, vineyard_area):\n",
    "        \"\"\"\n",
    "        Sets vineyard parameters and calculates the number of plants\n",
    "        Calculates Wine Row Volume and the amount of spray needed per hectare and all vineyard\n",
    "        \"\"\"\n",
    "        self.grapevine_height, self.grapevine_width = grapevine_height, grapevine_width\n",
    "        self.row_distance, self.grapevine_distance = row_distance, grapevine_distance\n",
    "        self.vineyard_area = vineyard_area\n",
    "        self.grapevine_number = round(10000 / (row_distance * grapevine_distance) * self.vineyard_area)\n",
    "        self.wine_row_volume = self.grapevine_height * self.grapevine_width * 10000 / self.row_distance\n",
    "        #And the LWA, too\n",
    "        self.leaf_wall_area = 2 * self.grapevine_height * 10000 / self.row_distance\n",
    "        \n",
    "class Pesticide():\n",
    "    \n",
    "    def __init__(self, name, dosis):\n",
    "        self.name = name\n",
    "        self.dosis = dosis\n",
    "        \n",
    "class Sprayer():\n",
    "    \n",
    "    def __init__(self, nozzle_number, tank_capacity):\n",
    "        self.nozzle_number = nozzle_number\n",
    "        self.nozzle_array = []\n",
    "        self.tank_capacity = tank_capacity\n",
    "        \n",
    "class Nozzle():\n",
    "    \n",
    "    def __init__(self, flow_rate, nozzle_type, sprayer):\n",
    "        self.flow_rate = flow_rate\n",
    "        self.nozzle_type = nozzle_type\n",
    "        self.sprayer = sprayer\n",
    "        \n",
    "        #Selecting the right nozzle\n",
    "        dif = np.abs(self.nozzle_type.flow_rates - self.flow_rate / self.sprayer.nozzle_number)\n",
    "        pressure_index, nozzle_index = np.unravel_index(dif.argmin(),\\\n",
    "                                                        (self.nozzle_type.flow_rates.shape[0],self.nozzle_type.flow_rates.shape[1]))\n",
    "        self.color_code = self.nozzle_type.color_codes[nozzle_index]\n",
    "        self.pressure = self.nozzle_type.pressures[pressure_index]\n",
    "        self.real_flow_rate = round(self.nozzle_type.flow_rates[pressure_index, nozzle_index],2)\n",
    "        \n",
    "class Tractor():\n",
    "    \n",
    "    def __init__(self, speed):\n",
    "        \"\"\"\n",
    "        When you have a speedometer, just use it\n",
    "        \"\"\"\n",
    "        self.speed = speed\n",
    "        \n",
    "    def set_speed(self, distance, time):\n",
    "        \"\"\"\n",
    "        If not, just make a simple speed test\n",
    "        Probably we have to make some changes on Imperial Units\n",
    "        \"\"\"\n",
    "        self.speed = 3.6 * distance / time\n",
    "        \n",
    "class Application():\n",
    "    \n",
    "    def __init__(self, vineyard, pesticide, sprayer, tractor):\n",
    "        self.vineyard = vineyard\n",
    "        self.pesticide = pesticide\n",
    "        self.sprayer = sprayer\n",
    "        self.tractor = tractor\n",
    "        \n",
    "        #The spray volume rate is calculated in a diferent way\n",
    "        self.spray_volume_rate = 0.095 * self.vineyard.wine_row_volume\n",
    "        self.spray_volume_total = self.spray_volume_rate * self.vineyard.vineyard_area\n",
    "        \n",
    "        #Probably the most important formula\n",
    "        self.flow_rate = (self.spray_volume_rate * self.tractor.speed * self.vineyard.row_distance) / 600\n",
    "        self.selected_nozzle = Nozzle(self.flow_rate, albuz_atr80, self.sprayer)\n",
    "        \n",
    "        self.concentration = self.pesticide.dosis / self.spray_volume_rate\n",
    "        self.total_pesticide = self.concentration * self.sprayer.tank_capacity\n",
    "    \n",
    "    def get_nozzle_config(self):\n",
    "        return self.selected_nozzle\n",
    "    \n",
    "    def get_tank_mix(self):\n",
    "        return ('Mix {} L of water with {} g of pesticide in tank'.\\\n",
    "                format(self.sprayer.tank_capacity, round(self.total_pesticide)))\n",
    "    \n",
    "    def get_tank_mix_lwa(self):\n",
    "        self.lwa_dosis = self.pesticide.lwa_dosis * self.vineyard.leaf_wall_area\n",
    "        return ('Mix {} L of water with {} g of pesticide in tank'.\\\n",
    "                format(self.sprayer.tank_capacity, round(self.total_pesticide)))\n",
    "        "
   ]
  },
  {
   "cell_type": "markdown",
   "metadata": {},
   "source": [
    "## Let's spray"
   ]
  },
  {
   "cell_type": "markdown",
   "metadata": {},
   "source": [
    "A slightly diferent place..."
   ]
  },
  {
   "cell_type": "code",
   "execution_count": 4,
   "metadata": {
    "collapsed": false
   },
   "outputs": [],
   "source": [
    "albuz_atr80 = NozzleType('Albuz', 'ATR 80', 'hollow cone', COLOR_CODES, PRESSURES, FLOW_RATES )\n",
    "old_valley = Vineyard(1.8,0.5,2.8,0.5,1)\n",
    "special_fungicide = Pesticide('Copper MIX', 2000)\n",
    "fan_sprayer = Sprayer(10, 1000)\n",
    "rusty_tractor = Tractor(6)\n",
    "tomorrow_job = Application(old_valley, special_fungicide, fan_sprayer, rusty_tractor)"
   ]
  },
  {
   "cell_type": "markdown",
   "metadata": {},
   "source": [
    "Let´s get the flow rate for this application, and the proper nozzle"
   ]
  },
  {
   "cell_type": "code",
   "execution_count": 5,
   "metadata": {
    "collapsed": false
   },
   "outputs": [
    {
     "name": "stdout",
     "output_type": "stream",
     "text": [
      "YELLOW\n",
      "7.0\n",
      "8.55\n",
      "Mix 1000 L of water with 6550 g of pesticide in tank\n"
     ]
    }
   ],
   "source": [
    "the_right_nozzle = tomorrow_job.get_nozzle_config()\n",
    "print(the_right_nozzle.color_code)\n",
    "print(the_right_nozzle.pressure)\n",
    "print(the_right_nozzle.flow_rate)\n",
    "print(tomorrow_job.get_tank_mix())"
   ]
  },
  {
   "cell_type": "markdown",
   "metadata": {},
   "source": [
    "But in some pesticides, a dosis per LWA unit is available, expressed in ammount of product per 10 000 m<sup>2</sup>"
   ]
  },
  {
   "cell_type": "code",
   "execution_count": 6,
   "metadata": {
    "collapsed": true
   },
   "outputs": [],
   "source": [
    "class FuturePesticide():\n",
    "    \n",
    "    def __init__(self, name, lwa_dosis):\n",
    "        self.name = name\n",
    "        self.lwa_dosis = lwa_dosis\n",
    "        \n",
    "class FutureApplication():\n",
    "    \n",
    "    def __init__(self, vineyard, future_pesticide, sprayer, tractor):\n",
    "        self.vineyard = vineyard\n",
    "        self.future_pesticide = future_pesticide\n",
    "        self.sprayer = sprayer\n",
    "        self.tractor = tractor\n",
    "        \n",
    "        #The spray volume rate is calculated in a diferent way\n",
    "        self.spray_volume_rate = 0.095 * self.vineyard.wine_row_volume\n",
    "        self.spray_volume_total = self.spray_volume_rate * self.vineyard.vineyard_area\n",
    "        \n",
    "        #Probably the most important formula\n",
    "        self.flow_rate = (self.spray_volume_rate * self.tractor.speed * self.vineyard.row_distance) / 600\n",
    "        self.selected_nozzle = Nozzle(self.flow_rate, albuz_atr80, self.sprayer)\n",
    "        \n",
    "        self.lwa_dosis = self.future_pesticide.lwa_dosis * self.vineyard.leaf_wall_area / 10000\n",
    "        \n",
    "        self.concentration = self.lwa_dosis / self.spray_volume_rate\n",
    "        self.total_pesticide = self.concentration * self.sprayer.tank_capacity\n",
    "    \n",
    "    def get_nozzle_config(self):\n",
    "        return self.selected_nozzle\n",
    "    \n",
    "    def get_tank_mix_lwa(self):\n",
    "        \n",
    "        return ('Mix {} L of water with {} g of pesticide in tank'.\\\n",
    "                format(self.sprayer.tank_capacity, round(self.total_pesticide)))"
   ]
  },
  {
   "cell_type": "markdown",
   "metadata": {},
   "source": [
    "Let's use a new fungicide with the a lower dosis per LWA"
   ]
  },
  {
   "cell_type": "code",
   "execution_count": 7,
   "metadata": {
    "collapsed": false
   },
   "outputs": [],
   "source": [
    "new_fungicide = FuturePesticide('Copper MIX EXTRA', 1000)\n",
    "fan_sprayer = Sprayer(10, 1000)\n",
    "rusty_tractor = Tractor(6)\n",
    "weekend_job = FutureApplication(old_valley, new_fungicide, fan_sprayer, rusty_tractor)"
   ]
  },
  {
   "cell_type": "markdown",
   "metadata": {},
   "source": [
    "Now, with some changes"
   ]
  },
  {
   "cell_type": "code",
   "execution_count": 8,
   "metadata": {
    "collapsed": false
   },
   "outputs": [
    {
     "name": "stdout",
     "output_type": "stream",
     "text": [
      "YELLOW\n",
      "7.0\n",
      "8.55\n",
      "Mix 1000 L of water with 4211 g of pesticide in tank\n"
     ]
    }
   ],
   "source": [
    "the_right_nozzle = weekend_job.get_nozzle_config()\n",
    "print(the_right_nozzle.color_code)\n",
    "print(the_right_nozzle.pressure)\n",
    "print(the_right_nozzle.flow_rate)\n",
    "print(weekend_job.get_tank_mix_lwa())"
   ]
  },
  {
   "cell_type": "markdown",
   "metadata": {},
   "source": [
    "## Resources\n",
    "\n",
    "This work is made of four ingredients: some ideas, lots of discussion with coleagues and farmers, support from [Impactwave](http://www.impactwave.com) team (specially Gonçalo Martins) and all the effort of the Python community:\n",
    "\n",
    "* [Python 3.5.2 documentation](https://docs.python.org/3/)\n",
    "* [matplotlib](http://matplotlib.org/)\n",
    "* [NumPy](http://www.numpy.org/)"
   ]
  }
 ],
 "metadata": {
  "anaconda-cloud": {},
  "kernelspec": {
   "display_name": "Python [conda env:meteo]",
   "language": "python",
   "name": "conda-env-meteo-py"
  },
  "language_info": {
   "codemirror_mode": {
    "name": "ipython",
    "version": 3
   },
   "file_extension": ".py",
   "mimetype": "text/x-python",
   "name": "python",
   "nbconvert_exporter": "python",
   "pygments_lexer": "ipython3",
   "version": "3.5.2"
  }
 },
 "nbformat": 4,
 "nbformat_minor": 0
}
